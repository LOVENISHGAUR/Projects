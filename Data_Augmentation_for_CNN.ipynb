{
  "nbformat": 4,
  "nbformat_minor": 0,
  "metadata": {
    "colab": {
      "name": "Data Augmentation for CNN.ipynb",
      "provenance": [],
      "authorship_tag": "ABX9TyMS1OaQBR+kP3WfwBYK+Vyl",
      "include_colab_link": true
    },
    "kernelspec": {
      "name": "python3",
      "display_name": "Python 3"
    }
  },
  "cells": [
    {
      "cell_type": "markdown",
      "metadata": {
        "id": "view-in-github",
        "colab_type": "text"
      },
      "source": [
        "<a href=\"https://colab.research.google.com/github/LOVENISHGAUR/Projects/blob/master/Data_Augmentation_for_CNN.ipynb\" target=\"_parent\"><img src=\"https://colab.research.google.com/assets/colab-badge.svg\" alt=\"Open In Colab\"/></a>"
      ]
    },
    {
      "cell_type": "markdown",
      "metadata": {
        "id": "CrAW6Uf5C5I1"
      },
      "source": [
        "In this technique, we generate new instances of images by cropping, flipping, zooming, shearing an original image. So, whenever the training lacks the image dataset, using augmentation, we can create thousands of images to train the model perfectly."
      ]
    },
    {
      "cell_type": "markdown",
      "metadata": {
        "id": "NVB05uk_DC-u"
      },
      "source": [
        "<h3>Data pre-processing</h3>\n",
        "1. Import the required libraries.\n",
        "\n",
        "2. Load the dataset from Keras.\n",
        "\n",
        "3. Normalize the data.\n",
        "\n",
        "4. Convert the target into categorical values.\n",
        "\n",
        "5. Apply data augmentation techniques on the train data.\n",
        "\n",
        "\n",
        "<h3>Building the model</h3>\n",
        "1. Construct a basic CNN model without the data augmentation techniques.\n",
        "\n",
        "2. Construct a CNN model with data augmentation.\n",
        "\n",
        "3. Evaluate both models and compare the model performance."
      ]
    },
    {
      "cell_type": "code",
      "metadata": {
        "colab": {
          "base_uri": "https://localhost:8080/",
          "height": 144
        },
        "id": "voigdpu4Cxyp",
        "outputId": "e342e4dd-a623-408d-947f-e559a62d668c"
      },
      "source": [
        "import numpy as np\n",
        "from keras.utils import np_utils\n",
        "from keras.datasets import fashion_mnist\n",
        "\n",
        "(X_train, y_train), (X_test, y_test) = fashion_mnist.load_data()\n",
        "\n",
        "%matplotlib inline\n",
        "import matplotlib.pyplot as plt\n",
        "\n",
        "plt.figure(figsize=(10, 10))\n",
        "for i in range(5):\n",
        "    plt.subplot(1, 5, i+1)\n",
        "    plt.imshow(X_test[i]) \n",
        "    plt.axis('off')\n",
        "plt.show()\n",
        "print('Labels: %s' % (y_test[0:5]))"
      ],
      "execution_count": 1,
      "outputs": [
        {
          "output_type": "display_data",
          "data": {
            "image/png": "[encoded data removed]",
            "text/plain": [
              "<Figure size 720x720 with 5 Axes>"
            ]
          },
          "metadata": {
            "tags": [],
            "needs_background": "light"
          }
        },
        {
          "output_type": "stream",
          "text": [
            "Labels: [9 2 1 1 6]\n"
          ],
          "name": "stdout"
        }
      ]
    },
    {
      "cell_type": "code",
      "metadata": {
        "id": "aPyNtCgSF_Db"
      },
      "source": [
        "X_train=X_train.astype('float32')\n",
        "X_test=X_test.astype('float32')\n",
        "X_train/=255\n",
        "X_test/=255\n",
        "\n",
        "X_train = X_train.reshape(X_train.shape[0], 28, 28, 1).astype('float32')\n",
        "X_test = X_test.reshape(X_test.shape[0], 28, 28, 1).astype('float32')\n",
        "\n",
        "y_train = np_utils.to_categorical(y_train, 10)\n",
        "y_test = np_utils.to_categorical(y_test, 10)"
      ],
      "execution_count": 2,
      "outputs": []
    },
    {
      "cell_type": "code",
      "metadata": {
        "id": "N4EcoW-tHO7Y"
      },
      "source": [
        "from keras.models import Sequential\n",
        "from keras.layers import Dense, Activation, Dropout, Flatten, Reshape\n",
        "from keras.layers import Convolution2D, MaxPooling2D"
      ],
      "execution_count": 3,
      "outputs": []
    },
    {
      "cell_type": "markdown",
      "metadata": {
        "id": "UthRJVQoHSAm"
      },
      "source": [
        "<h2>Data Augmentation</h2>"
      ]
    },
    {
      "cell_type": "code",
      "metadata": {
        "colab": {
          "base_uri": "https://localhost:8080/",
          "height": 89
        },
        "id": "TNaXwQWoHXPp",
        "outputId": "4701f25e-115b-4c7a-ba1f-f6885a1e501a"
      },
      "source": [
        "from keras.preprocessing.image import ImageDataGenerator\n",
        "\n",
        "#Data Augmentation\n",
        "datagen = ImageDataGenerator(\n",
        "    featurewise_center=False,  \n",
        "    samplewise_center=False, \n",
        "    featurewise_std_normalization=False,\n",
        "    samplewise_std_normalization=False,  \n",
        "    zca_whitening=False,\n",
        "    rotation_range=50,\n",
        "    width_shift_range=0.01, \n",
        "    height_shift_range=0.01, \n",
        "    horizontal_flip=False, \n",
        "    vertical_flip=False)\n",
        "\n",
        "datagen.fit(X_train)\n",
        "\n",
        "from matplotlib import pyplot as plt\n",
        "\n",
        "gen = datagen.flow(X_train[1:2], batch_size=1)\n",
        "for i in range(1, 6):\n",
        "    plt.subplot(1,5,i)\n",
        "    plt.axis(\"off\")\n",
        "    plt.imshow(gen.next().squeeze())\n",
        "    plt.plot()\n",
        "plt.show()"
      ],
      "execution_count": 4,
      "outputs": [
        {
          "output_type": "display_data",
          "data": {
            "image/png": "[encoded data removed]",
            "text/plain": [
              "<Figure size 432x288 with 5 Axes>"
            ]
          },
          "metadata": {
            "tags": [],
            "needs_background": "light"
          }
        }
      ]
    },
    {
      "cell_type": "markdown",
      "metadata": {
        "id": "RjUKNht8IoF6"
      },
      "source": [
        "<h2>Build the CNN Model</h2>"
      ]
    },
    {
      "cell_type": "code",
      "metadata": {
        "colab": {
          "base_uri": "https://localhost:8080/"
        },
        "id": "GBuuJhJhIn09",
        "outputId": "902a98bb-002e-4ae4-fdce-1cd4471bbd1f"
      },
      "source": [
        "model = Sequential()\n",
        "model.add(Convolution2D(32, 3, 3, input_shape=(28, 28, 1)))\n",
        "model.add(Activation('relu'))\n",
        "model.add(Dropout(0.25))\n",
        "\n",
        "model.add(Convolution2D(32, 3, 3))\n",
        "model.add(Activation('relu'))\n",
        "\n",
        "model.add(Convolution2D(32, 3, 3))\n",
        "model.add(Activation('relu'))\n",
        "model.add(Dropout(0.25))\n",
        "\n",
        "model.add(Flatten())\n",
        "\n",
        "model.add(Dense(128))\n",
        "model.add(Dense(128))\n",
        "model.add(Activation('relu'))\n",
        "\n",
        "model.add(Dense(10))\n",
        "model.add(Activation('softmax'))\n",
        "\n",
        "model.compile(loss='categorical_crossentropy', optimizer='adam', metrics=['accuracy'])\n",
        "model.fit(X_train, y_train, batch_size=32,epochs=10,validation_data=(X_test, y_test))\n"
      ],
      "execution_count": 5,
      "outputs": [
        {
          "output_type": "stream",
          "text": [
            "Epoch 1/10\n",
            "1875/1875 [==============================] - 12s 6ms/step - loss: 0.6467 - accuracy: 0.7616 - val_loss: 0.4569 - val_accuracy: 0.8295\n",
            "Epoch 2/10\n",
            "1875/1875 [==============================] - 12s 6ms/step - loss: 0.4696 - accuracy: 0.8268 - val_loss: 0.3877 - val_accuracy: 0.8505\n",
            "Epoch 3/10\n",
            "1875/1875 [==============================] - 12s 6ms/step - loss: 0.4315 - accuracy: 0.8396 - val_loss: 0.3875 - val_accuracy: 0.8574\n",
            "Epoch 4/10\n",
            "1875/1875 [==============================] - 12s 6ms/step - loss: 0.4065 - accuracy: 0.8481 - val_loss: 0.3839 - val_accuracy: 0.8615\n",
            "Epoch 5/10\n",
            "1875/1875 [==============================] - 11s 6ms/step - loss: 0.3901 - accuracy: 0.8553 - val_loss: 0.3754 - val_accuracy: 0.8573\n",
            "Epoch 6/10\n",
            "1875/1875 [==============================] - 11s 6ms/step - loss: 0.3769 - accuracy: 0.8611 - val_loss: 0.3554 - val_accuracy: 0.8718\n",
            "Epoch 7/10\n",
            "1875/1875 [==============================] - 11s 6ms/step - loss: 0.3669 - accuracy: 0.8644 - val_loss: 0.3541 - val_accuracy: 0.8731\n",
            "Epoch 8/10\n",
            "1875/1875 [==============================] - 11s 6ms/step - loss: 0.3521 - accuracy: 0.8708 - val_loss: 0.3417 - val_accuracy: 0.8764\n",
            "Epoch 9/10\n",
            "1875/1875 [==============================] - 11s 6ms/step - loss: 0.3490 - accuracy: 0.8716 - val_loss: 0.3343 - val_accuracy: 0.8780\n",
            "Epoch 10/10\n",
            "1875/1875 [==============================] - 11s 6ms/step - loss: 0.3400 - accuracy: 0.8749 - val_loss: 0.3390 - val_accuracy: 0.8758\n"
          ],
          "name": "stdout"
        },
        {
          "output_type": "execute_result",
          "data": {
            "text/plain": [
              "<tensorflow.python.keras.callbacks.History at 0x7fa631b47dd8>"
            ]
          },
          "metadata": {
            "tags": []
          },
          "execution_count": 5
        }
      ]
    },
    {
      "cell_type": "code",
      "metadata": {
        "colab": {
          "base_uri": "https://localhost:8080/"
        },
        "id": "PufSNaUkHanB",
        "outputId": "6a5d346c-ed23-44c4-c9e9-1972a5f24fd1"
      },
      "source": [
        "print('Test accuracy:', model.evaluate(X_test, y_test))"
      ],
      "execution_count": 6,
      "outputs": [
        {
          "output_type": "stream",
          "text": [
            "313/313 [==============================] - 1s 2ms/step - loss: 0.3390 - accuracy: 0.8758\n",
            "Test accuracy: [0.3390468955039978, 0.8758000135421753]\n"
          ],
          "name": "stdout"
        }
      ]
    },
    {
      "cell_type": "code",
      "metadata": {
        "id": "PZSK6yPbLkHA"
      },
      "source": [
        ""
      ],
      "execution_count": null,
      "outputs": []
    }
  ]
}