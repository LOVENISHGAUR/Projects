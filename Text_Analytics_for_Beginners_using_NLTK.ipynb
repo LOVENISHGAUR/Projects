{
  "nbformat": 4,
  "nbformat_minor": 0,
  "metadata": {
    "colab": {
      "name": "Text Analytics for Beginners using NLTK.ipynb",
      "provenance": [],
      "toc_visible": true
    },
    "kernelspec": {
      "name": "python3",
      "display_name": "Python 3"
    }
  },
  "cells": [
    {
      "cell_type": "markdown",
      "metadata": {
        "id": "R51mAlkSzCqD"
      },
      "source": [
        "Text Analytics has lots of applications in today's online world. By analyzing tweets on Twitter, we can find trending news and peoples reaction on a particular event. Amazon can understand user feedback or review on the specific product. BookMyShow can discover people's opinion about the movie. Youtube can also analyze and understand peoples viewpoints on a video.\n",
        "\n"
      ]
    },
    {
      "cell_type": "markdown",
      "metadata": {
        "id": "Zus4jrDpzQU4"
      },
      "source": [
        "Communicating using text has become a most common form of conversation in day to day life. We tweet, share messages, text, write blogs and provide feedback, All of these activities generate a lots of text, which is mostly unstructured form of data, which is openly available to explored and analysed by all of these application platforms, which provide insight in further enhancing the current experience of the customer."
      ]
    },
    {
      "cell_type": "markdown",
      "metadata": {
        "id": "ylqei2pB0NQt"
      },
      "source": [
        "#Text Analysis Operations using NLTK"
      ]
    },
    {
      "cell_type": "code",
      "metadata": {
        "colab": {
          "base_uri": "https://localhost:8080/"
        },
        "id": "REMiEa-_y2Eu",
        "outputId": "d1068e2a-35bb-4b15-db51-89e2169a02ae"
      },
      "source": [
        "#Install nltk library\n",
        "!pip install nltk"
      ],
      "execution_count": 1,
      "outputs": [
        {
          "output_type": "stream",
          "text": [
            "Requirement already satisfied: nltk in /usr/local/lib/python3.6/dist-packages (3.2.5)\n",
            "Requirement already satisfied: six in /usr/local/lib/python3.6/dist-packages (from nltk) (1.15.0)\n"
          ],
          "name": "stdout"
        }
      ]
    },
    {
      "cell_type": "code",
      "metadata": {
        "id": "vS3cCSEW0TQY"
      },
      "source": [
        "#Loading nltk\n",
        "import nltk"
      ],
      "execution_count": 2,
      "outputs": []
    },
    {
      "cell_type": "markdown",
      "metadata": {
        "id": "3ZF4LQ6P0aRv"
      },
      "source": [
        "#Tokenization\n",
        "\n",
        "The process of breaking down a text paragraph into smaller chunks such as words or sentence is called Tokenization. \n",
        "\n",
        "Token is a single entity that is building blocks for sentence or paragraph.\n",
        "\n",
        "1. Sentence Tokenization\n",
        "\n",
        "  Sentence tokenizer breaks text paragraph into sentences.\n",
        "\n",
        "2. Word Tokenization\n",
        "\n",
        "  Word tokenizer breaks text paragraph into words.\n"
      ]
    },
    {
      "cell_type": "code",
      "metadata": {
        "colab": {
          "base_uri": "https://localhost:8080/"
        },
        "id": "DlUER33-1O_w",
        "outputId": "afcd572b-5aa5-4a79-dac2-44a90198c68f"
      },
      "source": [
        "nltk.download('punkt')"
      ],
      "execution_count": 4,
      "outputs": [
        {
          "output_type": "stream",
          "text": [
            "[nltk_data] Downloading package punkt to /root/nltk_data...\n",
            "[nltk_data]   Unzipping tokenizers/punkt.zip.\n"
          ],
          "name": "stdout"
        },
        {
          "output_type": "execute_result",
          "data": {
            "text/plain": [
              "True"
            ]
          },
          "metadata": {
            "tags": []
          },
          "execution_count": 4
        }
      ]
    },
    {
      "cell_type": "code",
      "metadata": {
        "colab": {
          "base_uri": "https://localhost:8080/"
        },
        "id": "rZ7qb4c00YO9",
        "outputId": "2c62135c-690f-4f4e-fd4b-2a73c3ec4e17"
      },
      "source": [
        "#Sentence Tokenization\n",
        "\n",
        "from nltk.tokenize import sent_tokenize\n",
        "text=\"\"\"It was a wild morning in October, and I observed as I was dressing\n",
        "     how the last remaining leaves were being whirled from the solitary\n",
        "     plane tree which graces the yard behind our house. I descended to\n",
        "     breakfast prepared to find my companion in depressed spirits, for,\n",
        "     like all great artists, he was easily impressed by his surroundings.\n",
        "     On the contrary, I found that he had nearly finished his meal, and\n",
        "     that his mood was particularly bright and joyous, with that somewhat\n",
        "     sinister cheerfulness which was characteristic of his lighter\n",
        "     moments.\"\"\"\n",
        "tokenized_text=sent_tokenize(text)\n",
        "print(tokenized_text)\n"
      ],
      "execution_count": 20,
      "outputs": [
        {
          "output_type": "stream",
          "text": [
            "['It was a wild morning in October, and I observed as I was dressing\\n     how the last remaining leaves were being whirled from the solitary\\n     plane tree which graces the yard behind our house.', 'I descended to\\n     breakfast prepared to find my companion in depressed spirits, for,\\n     like all great artists, he was easily impressed by his surroundings.', 'On the contrary, I found that he had nearly finished his meal, and\\n     that his mood was particularly bright and joyous, with that somewhat\\n     sinister cheerfulness which was characteristic of his lighter\\n     moments.']\n"
          ],
          "name": "stdout"
        }
      ]
    },
    {
      "cell_type": "code",
      "metadata": {
        "colab": {
          "base_uri": "https://localhost:8080/"
        },
        "id": "8CSMztgP1MK-",
        "outputId": "cc31f722-7e4a-4507-dc06-4ab944226b88"
      },
      "source": [
        "# Word Tokenization\n",
        "\n",
        "from nltk.tokenize import word_tokenize\n",
        "text=\"\"\"It was a wild morning in October, and I observed as I was dressing\n",
        "     how the last remaining leaves were being whirled from the solitary\n",
        "     plane tree which graces the yard behind our house. I descended to\n",
        "     breakfast prepared to find my companion in depressed spirits, for,\n",
        "     like all great artists, he was easily impressed by his surroundings.\n",
        "     On the contrary, I found that he had nearly finished his meal, and\n",
        "     that his mood was particularly bright and joyous, with that somewhat\n",
        "     sinister cheerfulness which was characteristic of his lighter\n",
        "     moments.\"\"\"\n",
        "\n",
        "tokenized_word = word_tokenize(text)\n",
        "tokenized_word"
      ],
      "execution_count": 21,
      "outputs": [
        {
          "output_type": "execute_result",
          "data": {
            "text/plain": [
              "['It',\n",
              " 'was',\n",
              " 'a',\n",
              " 'wild',\n",
              " 'morning',\n",
              " 'in',\n",
              " 'October',\n",
              " ',',\n",
              " 'and',\n",
              " 'I',\n",
              " 'observed',\n",
              " 'as',\n",
              " 'I',\n",
              " 'was',\n",
              " 'dressing',\n",
              " 'how',\n",
              " 'the',\n",
              " 'last',\n",
              " 'remaining',\n",
              " 'leaves',\n",
              " 'were',\n",
              " 'being',\n",
              " 'whirled',\n",
              " 'from',\n",
              " 'the',\n",
              " 'solitary',\n",
              " 'plane',\n",
              " 'tree',\n",
              " 'which',\n",
              " 'graces',\n",
              " 'the',\n",
              " 'yard',\n",
              " 'behind',\n",
              " 'our',\n",
              " 'house',\n",
              " '.',\n",
              " 'I',\n",
              " 'descended',\n",
              " 'to',\n",
              " 'breakfast',\n",
              " 'prepared',\n",
              " 'to',\n",
              " 'find',\n",
              " 'my',\n",
              " 'companion',\n",
              " 'in',\n",
              " 'depressed',\n",
              " 'spirits',\n",
              " ',',\n",
              " 'for',\n",
              " ',',\n",
              " 'like',\n",
              " 'all',\n",
              " 'great',\n",
              " 'artists',\n",
              " ',',\n",
              " 'he',\n",
              " 'was',\n",
              " 'easily',\n",
              " 'impressed',\n",
              " 'by',\n",
              " 'his',\n",
              " 'surroundings',\n",
              " '.',\n",
              " 'On',\n",
              " 'the',\n",
              " 'contrary',\n",
              " ',',\n",
              " 'I',\n",
              " 'found',\n",
              " 'that',\n",
              " 'he',\n",
              " 'had',\n",
              " 'nearly',\n",
              " 'finished',\n",
              " 'his',\n",
              " 'meal',\n",
              " ',',\n",
              " 'and',\n",
              " 'that',\n",
              " 'his',\n",
              " 'mood',\n",
              " 'was',\n",
              " 'particularly',\n",
              " 'bright',\n",
              " 'and',\n",
              " 'joyous',\n",
              " ',',\n",
              " 'with',\n",
              " 'that',\n",
              " 'somewhat',\n",
              " 'sinister',\n",
              " 'cheerfulness',\n",
              " 'which',\n",
              " 'was',\n",
              " 'characteristic',\n",
              " 'of',\n",
              " 'his',\n",
              " 'lighter',\n",
              " 'moments',\n",
              " '.']"
            ]
          },
          "metadata": {
            "tags": []
          },
          "execution_count": 21
        }
      ]
    },
    {
      "cell_type": "markdown",
      "metadata": {
        "id": "bOoCClNe11NE"
      },
      "source": [
        "#Frequency Distribution"
      ]
    },
    {
      "cell_type": "code",
      "metadata": {
        "colab": {
          "base_uri": "https://localhost:8080/"
        },
        "id": "QoRJMXG11tLr",
        "outputId": "863130ed-57cf-49ae-cdcc-dd8bfe383705"
      },
      "source": [
        "from nltk.probability import FreqDist\n",
        "\n",
        "fdist = FreqDist(tokenized_text)\n",
        "\n",
        "fdist"
      ],
      "execution_count": 22,
      "outputs": [
        {
          "output_type": "execute_result",
          "data": {
            "text/plain": [
              "FreqDist({'I descended to\\n     breakfast prepared to find my companion in depressed spirits, for,\\n     like all great artists, he was easily impressed by his surroundings.': 1,\n",
              "          'It was a wild morning in October, and I observed as I was dressing\\n     how the last remaining leaves were being whirled from the solitary\\n     plane tree which graces the yard behind our house.': 1,\n",
              "          'On the contrary, I found that he had nearly finished his meal, and\\n     that his mood was particularly bright and joyous, with that somewhat\\n     sinister cheerfulness which was characteristic of his lighter\\n     moments.': 1})"
            ]
          },
          "metadata": {
            "tags": []
          },
          "execution_count": 22
        }
      ]
    },
    {
      "cell_type": "code",
      "metadata": {
        "colab": {
          "base_uri": "https://localhost:8080/"
        },
        "id": "6YWgMTiu2IGF",
        "outputId": "1d4719c7-4be3-4cb9-964f-3bce200d216e"
      },
      "source": [
        "fdist.most_common(5)"
      ],
      "execution_count": 23,
      "outputs": [
        {
          "output_type": "execute_result",
          "data": {
            "text/plain": [
              "[('It was a wild morning in October, and I observed as I was dressing\\n     how the last remaining leaves were being whirled from the solitary\\n     plane tree which graces the yard behind our house.',\n",
              "  1),\n",
              " ('I descended to\\n     breakfast prepared to find my companion in depressed spirits, for,\\n     like all great artists, he was easily impressed by his surroundings.',\n",
              "  1),\n",
              " ('On the contrary, I found that he had nearly finished his meal, and\\n     that his mood was particularly bright and joyous, with that somewhat\\n     sinister cheerfulness which was characteristic of his lighter\\n     moments.',\n",
              "  1)]"
            ]
          },
          "metadata": {
            "tags": []
          },
          "execution_count": 23
        }
      ]
    },
    {
      "cell_type": "code",
      "metadata": {
        "colab": {
          "base_uri": "https://localhost:8080/",
          "height": 633
        },
        "id": "aYItYmmd2RBl",
        "outputId": "85efb8f5-c108-45df-af87-3a3e55f3228b"
      },
      "source": [
        "#Plotting the frequency distribution\n",
        "\n",
        "import matplotlib.pyplot as plt\n",
        "\n",
        "fdist.plot(30,cumulative=False)\n",
        "plt.show()"
      ],
      "execution_count": 24,
      "outputs": [
        {
          "output_type": "display_data",
          "data": {
            "image/png": "[encoded data removed]",
            "text/plain": [
              "<Figure size 432x288 with 1 Axes>"
            ]
          },
          "metadata": {
            "tags": [],
            "needs_background": "light"
          }
        }
      ]
    },
    {
      "cell_type": "markdown",
      "metadata": {
        "id": "1z7vwnyW3NHl"
      },
      "source": [
        "#Stopwords\n",
        "\n",
        "\n",
        "A text may contain stop words such as is, am, are, this, a, an, the, etc.\n",
        "\n",
        "Stopwords are considered as unnecessary words in the text as they dont add much to the meaning of the text."
      ]
    },
    {
      "cell_type": "code",
      "metadata": {
        "colab": {
          "base_uri": "https://localhost:8080/"
        },
        "id": "p2GtQRHK32ig",
        "outputId": "39c1259e-21f4-43f7-a2df-8a5a5b2f6b92"
      },
      "source": [
        "#downloading stopwords before importing\n",
        "nltk.download('stopwords')"
      ],
      "execution_count": 25,
      "outputs": [
        {
          "output_type": "stream",
          "text": [
            "[nltk_data] Downloading package stopwords to /root/nltk_data...\n",
            "[nltk_data]   Package stopwords is already up-to-date!\n"
          ],
          "name": "stdout"
        },
        {
          "output_type": "execute_result",
          "data": {
            "text/plain": [
              "True"
            ]
          },
          "metadata": {
            "tags": []
          },
          "execution_count": 25
        }
      ]
    },
    {
      "cell_type": "code",
      "metadata": {
        "colab": {
          "base_uri": "https://localhost:8080/"
        },
        "id": "XHv34m062tru",
        "outputId": "777b1797-8f9f-4793-da1b-b16e651bac61"
      },
      "source": [
        "from nltk.corpus import stopwords\n",
        "\n",
        "stop_words = set(stopwords.words('english'))\n",
        "stop_words"
      ],
      "execution_count": 26,
      "outputs": [
        {
          "output_type": "execute_result",
          "data": {
            "text/plain": [
              "{'a',\n",
              " 'about',\n",
              " 'above',\n",
              " 'after',\n",
              " 'again',\n",
              " 'against',\n",
              " 'ain',\n",
              " 'all',\n",
              " 'am',\n",
              " 'an',\n",
              " 'and',\n",
              " 'any',\n",
              " 'are',\n",
              " 'aren',\n",
              " \"aren't\",\n",
              " 'as',\n",
              " 'at',\n",
              " 'be',\n",
              " 'because',\n",
              " 'been',\n",
              " 'before',\n",
              " 'being',\n",
              " 'below',\n",
              " 'between',\n",
              " 'both',\n",
              " 'but',\n",
              " 'by',\n",
              " 'can',\n",
              " 'couldn',\n",
              " \"couldn't\",\n",
              " 'd',\n",
              " 'did',\n",
              " 'didn',\n",
              " \"didn't\",\n",
              " 'do',\n",
              " 'does',\n",
              " 'doesn',\n",
              " \"doesn't\",\n",
              " 'doing',\n",
              " 'don',\n",
              " \"don't\",\n",
              " 'down',\n",
              " 'during',\n",
              " 'each',\n",
              " 'few',\n",
              " 'for',\n",
              " 'from',\n",
              " 'further',\n",
              " 'had',\n",
              " 'hadn',\n",
              " \"hadn't\",\n",
              " 'has',\n",
              " 'hasn',\n",
              " \"hasn't\",\n",
              " 'have',\n",
              " 'haven',\n",
              " \"haven't\",\n",
              " 'having',\n",
              " 'he',\n",
              " 'her',\n",
              " 'here',\n",
              " 'hers',\n",
              " 'herself',\n",
              " 'him',\n",
              " 'himself',\n",
              " 'his',\n",
              " 'how',\n",
              " 'i',\n",
              " 'if',\n",
              " 'in',\n",
              " 'into',\n",
              " 'is',\n",
              " 'isn',\n",
              " \"isn't\",\n",
              " 'it',\n",
              " \"it's\",\n",
              " 'its',\n",
              " 'itself',\n",
              " 'just',\n",
              " 'll',\n",
              " 'm',\n",
              " 'ma',\n",
              " 'me',\n",
              " 'mightn',\n",
              " \"mightn't\",\n",
              " 'more',\n",
              " 'most',\n",
              " 'mustn',\n",
              " \"mustn't\",\n",
              " 'my',\n",
              " 'myself',\n",
              " 'needn',\n",
              " \"needn't\",\n",
              " 'no',\n",
              " 'nor',\n",
              " 'not',\n",
              " 'now',\n",
              " 'o',\n",
              " 'of',\n",
              " 'off',\n",
              " 'on',\n",
              " 'once',\n",
              " 'only',\n",
              " 'or',\n",
              " 'other',\n",
              " 'our',\n",
              " 'ours',\n",
              " 'ourselves',\n",
              " 'out',\n",
              " 'over',\n",
              " 'own',\n",
              " 're',\n",
              " 's',\n",
              " 'same',\n",
              " 'shan',\n",
              " \"shan't\",\n",
              " 'she',\n",
              " \"she's\",\n",
              " 'should',\n",
              " \"should've\",\n",
              " 'shouldn',\n",
              " \"shouldn't\",\n",
              " 'so',\n",
              " 'some',\n",
              " 'such',\n",
              " 't',\n",
              " 'than',\n",
              " 'that',\n",
              " \"that'll\",\n",
              " 'the',\n",
              " 'their',\n",
              " 'theirs',\n",
              " 'them',\n",
              " 'themselves',\n",
              " 'then',\n",
              " 'there',\n",
              " 'these',\n",
              " 'they',\n",
              " 'this',\n",
              " 'those',\n",
              " 'through',\n",
              " 'to',\n",
              " 'too',\n",
              " 'under',\n",
              " 'until',\n",
              " 'up',\n",
              " 've',\n",
              " 'very',\n",
              " 'was',\n",
              " 'wasn',\n",
              " \"wasn't\",\n",
              " 'we',\n",
              " 'were',\n",
              " 'weren',\n",
              " \"weren't\",\n",
              " 'what',\n",
              " 'when',\n",
              " 'where',\n",
              " 'which',\n",
              " 'while',\n",
              " 'who',\n",
              " 'whom',\n",
              " 'why',\n",
              " 'will',\n",
              " 'with',\n",
              " 'won',\n",
              " \"won't\",\n",
              " 'wouldn',\n",
              " \"wouldn't\",\n",
              " 'y',\n",
              " 'you',\n",
              " \"you'd\",\n",
              " \"you'll\",\n",
              " \"you're\",\n",
              " \"you've\",\n",
              " 'your',\n",
              " 'yours',\n",
              " 'yourself',\n",
              " 'yourselves'}"
            ]
          },
          "metadata": {
            "tags": []
          },
          "execution_count": 26
        }
      ]
    },
    {
      "cell_type": "markdown",
      "metadata": {
        "id": "yR8OPkv04Zz8"
      },
      "source": [
        "#Removing Stopwords"
      ]
    },
    {
      "cell_type": "code",
      "metadata": {
        "colab": {
          "base_uri": "https://localhost:8080/"
        },
        "id": "Lklmbmu730Z-",
        "outputId": "6c2f2732-3988-4a8c-9864-1c0230d24a9e"
      },
      "source": [
        "filtered_sent = []\n",
        "for w in tokenized_word:\n",
        "  if w not in stop_words:\n",
        "    filtered_sent.append(w)\n",
        "\n",
        "print(\"Tokenized Sentence:\",tokenized_word)\n",
        "print(\"Filterd Sentence:\",filtered_sent)\n",
        "\n"
      ],
      "execution_count": 30,
      "outputs": [
        {
          "output_type": "stream",
          "text": [
            "Tokenized Sentence: ['It', 'was', 'a', 'wild', 'morning', 'in', 'October', ',', 'and', 'I', 'observed', 'as', 'I', 'was', 'dressing', 'how', 'the', 'last', 'remaining', 'leaves', 'were', 'being', 'whirled', 'from', 'the', 'solitary', 'plane', 'tree', 'which', 'graces', 'the', 'yard', 'behind', 'our', 'house', '.', 'I', 'descended', 'to', 'breakfast', 'prepared', 'to', 'find', 'my', 'companion', 'in', 'depressed', 'spirits', ',', 'for', ',', 'like', 'all', 'great', 'artists', ',', 'he', 'was', 'easily', 'impressed', 'by', 'his', 'surroundings', '.', 'On', 'the', 'contrary', ',', 'I', 'found', 'that', 'he', 'had', 'nearly', 'finished', 'his', 'meal', ',', 'and', 'that', 'his', 'mood', 'was', 'particularly', 'bright', 'and', 'joyous', ',', 'with', 'that', 'somewhat', 'sinister', 'cheerfulness', 'which', 'was', 'characteristic', 'of', 'his', 'lighter', 'moments', '.']\n",
            "Filterd Sentence: ['It', 'wild', 'morning', 'October', ',', 'I', 'observed', 'I', 'dressing', 'last', 'remaining', 'leaves', 'whirled', 'solitary', 'plane', 'tree', 'graces', 'yard', 'behind', 'house', '.', 'I', 'descended', 'breakfast', 'prepared', 'find', 'companion', 'depressed', 'spirits', ',', ',', 'like', 'great', 'artists', ',', 'easily', 'impressed', 'surroundings', '.', 'On', 'contrary', ',', 'I', 'found', 'nearly', 'finished', 'meal', ',', 'mood', 'particularly', 'bright', 'joyous', ',', 'somewhat', 'sinister', 'cheerfulness', 'characteristic', 'lighter', 'moments', '.']\n"
          ],
          "name": "stdout"
        }
      ]
    },
    {
      "cell_type": "markdown",
      "metadata": {
        "id": "-BqMUDLj5ZCS"
      },
      "source": [
        "#Lexicon Normalization\n",
        "\n",
        "Lexicon normalization considers another type of noise in the text. For example, connection, connected, connecting word reduce to a common word \"connect\". It reduces derivationally related forms of a word to a common root word.\n",
        "\n",
        "###Stemming\n",
        "Stemming is a process of linguistic normalization, which reduces words to their word root word or chops off the derivational affixes. For example, connection, connected, connecting word reduce to a common word \"connect\".\n",
        "\n",
        "###Lemmatization\n",
        "Lemmatization reduces words to their base word, which is linguistically correct lemmas. It transforms root word with the use of vocabulary and morphological analysis. Lemmatization is usually more sophisticated than stemming. Stemmer works on an individual word without knowledge of the context. For example, The word \"better\" has \"good\" as its lemma. This thing will miss by stemming because it requires a dictionary look-up."
      ]
    },
    {
      "cell_type": "code",
      "metadata": {
        "colab": {
          "base_uri": "https://localhost:8080/"
        },
        "id": "cjFr6a244TN5",
        "outputId": "787641f8-8e2b-4f50-f0aa-86092faf14cf"
      },
      "source": [
        "#Stemming\n",
        "\n",
        "from nltk.stem import PorterStemmer\n",
        "\n",
        "ps = PorterStemmer()\n",
        "\n",
        "stemmed_words = []\n",
        "\n",
        "for w in filtered_sent:\n",
        "  stemmed_words.append(ps.stem(w))\n",
        "\n",
        "print(\"Filtered Sentence:\",filtered_sent)\n",
        "print(\"Stemmed Sentence:\",stemmed_words)"
      ],
      "execution_count": 33,
      "outputs": [
        {
          "output_type": "stream",
          "text": [
            "Filtered Sentence: ['It', 'wild', 'morning', 'October', ',', 'I', 'observed', 'I', 'dressing', 'last', 'remaining', 'leaves', 'whirled', 'solitary', 'plane', 'tree', 'graces', 'yard', 'behind', 'house', '.', 'I', 'descended', 'breakfast', 'prepared', 'find', 'companion', 'depressed', 'spirits', ',', ',', 'like', 'great', 'artists', ',', 'easily', 'impressed', 'surroundings', '.', 'On', 'contrary', ',', 'I', 'found', 'nearly', 'finished', 'meal', ',', 'mood', 'particularly', 'bright', 'joyous', ',', 'somewhat', 'sinister', 'cheerfulness', 'characteristic', 'lighter', 'moments', '.']\n",
            "Stemmed Sentence: ['It', 'wild', 'morn', 'octob', ',', 'I', 'observ', 'I', 'dress', 'last', 'remain', 'leav', 'whirl', 'solitari', 'plane', 'tree', 'grace', 'yard', 'behind', 'hous', '.', 'I', 'descend', 'breakfast', 'prepar', 'find', 'companion', 'depress', 'spirit', ',', ',', 'like', 'great', 'artist', ',', 'easili', 'impress', 'surround', '.', 'On', 'contrari', ',', 'I', 'found', 'nearli', 'finish', 'meal', ',', 'mood', 'particularli', 'bright', 'joyou', ',', 'somewhat', 'sinist', 'cheer', 'characterist', 'lighter', 'moment', '.']\n"
          ],
          "name": "stdout"
        }
      ]
    },
    {
      "cell_type": "code",
      "metadata": {
        "colab": {
          "base_uri": "https://localhost:8080/"
        },
        "id": "nivGdDrm7RQE",
        "outputId": "f45614a3-9dca-4186-e399-d66e93075a0e"
      },
      "source": [
        "#Ddwnloading wordnet for lemmatization\n",
        "nltk.download('wordnet')"
      ],
      "execution_count": 37,
      "outputs": [
        {
          "output_type": "stream",
          "text": [
            "[nltk_data] Downloading package wordnet to /root/nltk_data...\n",
            "[nltk_data]   Package wordnet is already up-to-date!\n"
          ],
          "name": "stdout"
        },
        {
          "output_type": "execute_result",
          "data": {
            "text/plain": [
              "True"
            ]
          },
          "metadata": {
            "tags": []
          },
          "execution_count": 37
        }
      ]
    },
    {
      "cell_type": "code",
      "metadata": {
        "colab": {
          "base_uri": "https://localhost:8080/"
        },
        "id": "xc0XuHEZ6Yip",
        "outputId": "16e92d14-6c09-4433-e361-7d0eb00e1382"
      },
      "source": [
        "#Lemmatization\n",
        "#Stemming\n",
        "\n",
        "from nltk.stem.wordnet import WordNetLemmatizer\n",
        "\n",
        "lm = WordNetLemmatizer()\n",
        "\n",
        "lemmatized_words = []\n",
        "for w in filtered_sent:\n",
        "  lemmatized_words.append(lm.lemmatize(w))\n",
        "\n",
        "print(\"Filtered Sentence : \", filtered_sent)\n",
        "print(\"Lemmatized Sentence : \",lemmatized_words)"
      ],
      "execution_count": 38,
      "outputs": [
        {
          "output_type": "stream",
          "text": [
            "Filtered Sentence :  ['It', 'wild', 'morning', 'October', ',', 'I', 'observed', 'I', 'dressing', 'last', 'remaining', 'leaves', 'whirled', 'solitary', 'plane', 'tree', 'graces', 'yard', 'behind', 'house', '.', 'I', 'descended', 'breakfast', 'prepared', 'find', 'companion', 'depressed', 'spirits', ',', ',', 'like', 'great', 'artists', ',', 'easily', 'impressed', 'surroundings', '.', 'On', 'contrary', ',', 'I', 'found', 'nearly', 'finished', 'meal', ',', 'mood', 'particularly', 'bright', 'joyous', ',', 'somewhat', 'sinister', 'cheerfulness', 'characteristic', 'lighter', 'moments', '.']\n",
            "Lemmatized Sentence :  ['It', 'wild', 'morning', 'October', ',', 'I', 'observed', 'I', 'dressing', 'last', 'remaining', 'leaf', 'whirled', 'solitary', 'plane', 'tree', 'grace', 'yard', 'behind', 'house', '.', 'I', 'descended', 'breakfast', 'prepared', 'find', 'companion', 'depressed', 'spirit', ',', ',', 'like', 'great', 'artist', ',', 'easily', 'impressed', 'surroundings', '.', 'On', 'contrary', ',', 'I', 'found', 'nearly', 'finished', 'meal', ',', 'mood', 'particularly', 'bright', 'joyous', ',', 'somewhat', 'sinister', 'cheerfulness', 'characteristic', 'lighter', 'moment', '.']\n"
          ],
          "name": "stdout"
        }
      ]
    },
    {
      "cell_type": "markdown",
      "metadata": {
        "id": "wJe5wtk37jfL"
      },
      "source": [
        "#POS Tagging\n",
        "\n",
        "The primary target of Part-of-Speech(POS) tagging is to identify the grammatical group of a given word. Whether it is a NOUN, PRONOUN, ADJECTIVE, VERB, ADVERBS, etc. based on the context. POS Tagging looks for relationships within the sentence and assigns a corresponding tag to the word."
      ]
    },
    {
      "cell_type": "code",
      "metadata": {
        "id": "AQgVhfnE7OQP"
      },
      "source": [
        "sent = \"\"\"To Sherlock Holmes she is always the woman. I have seldom heard him\n",
        "     mention her under any other name. In his eyes she eclipses and\n",
        "     predominates the whole of her sex. It was not that he felt any\n",
        "     emotion akin to love for Irene Adler. All emotions, and that one\n",
        "     particularly, were abhorrent to his cold, precise but admirably\n",
        "     balanced mind. He was, I take it, the most perfect reasoning and\n",
        "     observing machine that the world has seen, but as a lover he would\n",
        "     have placed himself in a false position. He never spoke of the softer\n",
        "     passions, save with a gibe and a sneer. They were admirable things\n",
        "     for the observer--excellent for drawing the veil from men's motives\n",
        "     and actions. But for the trained reasoner to admit such intrusions\n",
        "     into his own delicate and finely adjusted temperament was to\n",
        "     introduce a distracting factor which might throw a doubt upon all his\n",
        "     mental results. Grit in a sensitive instrument, or a crack in one of\n",
        "     his own high-power lenses, would not be more disturbing than a strong\n",
        "     emotion in a nature such as his. And yet there was but one woman to\n",
        "     him, and that woman was the late Irene Adler, of dubious and\n",
        "     questionable memory.\"\"\""
      ],
      "execution_count": 39,
      "outputs": []
    },
    {
      "cell_type": "code",
      "metadata": {
        "colab": {
          "base_uri": "https://localhost:8080/"
        },
        "id": "Htp_Lo4t71pI",
        "outputId": "fd49262b-2298-498a-a30f-60ea86dcbede"
      },
      "source": [
        "tokens = nltk.word_tokenize(sent)\n",
        "tokens"
      ],
      "execution_count": 40,
      "outputs": [
        {
          "output_type": "execute_result",
          "data": {
            "text/plain": [
              "['To',\n",
              " 'Sherlock',\n",
              " 'Holmes',\n",
              " 'she',\n",
              " 'is',\n",
              " 'always',\n",
              " 'the',\n",
              " 'woman',\n",
              " '.',\n",
              " 'I',\n",
              " 'have',\n",
              " 'seldom',\n",
              " 'heard',\n",
              " 'him',\n",
              " 'mention',\n",
              " 'her',\n",
              " 'under',\n",
              " 'any',\n",
              " 'other',\n",
              " 'name',\n",
              " '.',\n",
              " 'In',\n",
              " 'his',\n",
              " 'eyes',\n",
              " 'she',\n",
              " 'eclipses',\n",
              " 'and',\n",
              " 'predominates',\n",
              " 'the',\n",
              " 'whole',\n",
              " 'of',\n",
              " 'her',\n",
              " 'sex',\n",
              " '.',\n",
              " 'It',\n",
              " 'was',\n",
              " 'not',\n",
              " 'that',\n",
              " 'he',\n",
              " 'felt',\n",
              " 'any',\n",
              " 'emotion',\n",
              " 'akin',\n",
              " 'to',\n",
              " 'love',\n",
              " 'for',\n",
              " 'Irene',\n",
              " 'Adler',\n",
              " '.',\n",
              " 'All',\n",
              " 'emotions',\n",
              " ',',\n",
              " 'and',\n",
              " 'that',\n",
              " 'one',\n",
              " 'particularly',\n",
              " ',',\n",
              " 'were',\n",
              " 'abhorrent',\n",
              " 'to',\n",
              " 'his',\n",
              " 'cold',\n",
              " ',',\n",
              " 'precise',\n",
              " 'but',\n",
              " 'admirably',\n",
              " 'balanced',\n",
              " 'mind',\n",
              " '.',\n",
              " 'He',\n",
              " 'was',\n",
              " ',',\n",
              " 'I',\n",
              " 'take',\n",
              " 'it',\n",
              " ',',\n",
              " 'the',\n",
              " 'most',\n",
              " 'perfect',\n",
              " 'reasoning',\n",
              " 'and',\n",
              " 'observing',\n",
              " 'machine',\n",
              " 'that',\n",
              " 'the',\n",
              " 'world',\n",
              " 'has',\n",
              " 'seen',\n",
              " ',',\n",
              " 'but',\n",
              " 'as',\n",
              " 'a',\n",
              " 'lover',\n",
              " 'he',\n",
              " 'would',\n",
              " 'have',\n",
              " 'placed',\n",
              " 'himself',\n",
              " 'in',\n",
              " 'a',\n",
              " 'false',\n",
              " 'position',\n",
              " '.',\n",
              " 'He',\n",
              " 'never',\n",
              " 'spoke',\n",
              " 'of',\n",
              " 'the',\n",
              " 'softer',\n",
              " 'passions',\n",
              " ',',\n",
              " 'save',\n",
              " 'with',\n",
              " 'a',\n",
              " 'gibe',\n",
              " 'and',\n",
              " 'a',\n",
              " 'sneer',\n",
              " '.',\n",
              " 'They',\n",
              " 'were',\n",
              " 'admirable',\n",
              " 'things',\n",
              " 'for',\n",
              " 'the',\n",
              " 'observer',\n",
              " '--',\n",
              " 'excellent',\n",
              " 'for',\n",
              " 'drawing',\n",
              " 'the',\n",
              " 'veil',\n",
              " 'from',\n",
              " 'men',\n",
              " \"'s\",\n",
              " 'motives',\n",
              " 'and',\n",
              " 'actions',\n",
              " '.',\n",
              " 'But',\n",
              " 'for',\n",
              " 'the',\n",
              " 'trained',\n",
              " 'reasoner',\n",
              " 'to',\n",
              " 'admit',\n",
              " 'such',\n",
              " 'intrusions',\n",
              " 'into',\n",
              " 'his',\n",
              " 'own',\n",
              " 'delicate',\n",
              " 'and',\n",
              " 'finely',\n",
              " 'adjusted',\n",
              " 'temperament',\n",
              " 'was',\n",
              " 'to',\n",
              " 'introduce',\n",
              " 'a',\n",
              " 'distracting',\n",
              " 'factor',\n",
              " 'which',\n",
              " 'might',\n",
              " 'throw',\n",
              " 'a',\n",
              " 'doubt',\n",
              " 'upon',\n",
              " 'all',\n",
              " 'his',\n",
              " 'mental',\n",
              " 'results',\n",
              " '.',\n",
              " 'Grit',\n",
              " 'in',\n",
              " 'a',\n",
              " 'sensitive',\n",
              " 'instrument',\n",
              " ',',\n",
              " 'or',\n",
              " 'a',\n",
              " 'crack',\n",
              " 'in',\n",
              " 'one',\n",
              " 'of',\n",
              " 'his',\n",
              " 'own',\n",
              " 'high-power',\n",
              " 'lenses',\n",
              " ',',\n",
              " 'would',\n",
              " 'not',\n",
              " 'be',\n",
              " 'more',\n",
              " 'disturbing',\n",
              " 'than',\n",
              " 'a',\n",
              " 'strong',\n",
              " 'emotion',\n",
              " 'in',\n",
              " 'a',\n",
              " 'nature',\n",
              " 'such',\n",
              " 'as',\n",
              " 'his',\n",
              " '.',\n",
              " 'And',\n",
              " 'yet',\n",
              " 'there',\n",
              " 'was',\n",
              " 'but',\n",
              " 'one',\n",
              " 'woman',\n",
              " 'to',\n",
              " 'him',\n",
              " ',',\n",
              " 'and',\n",
              " 'that',\n",
              " 'woman',\n",
              " 'was',\n",
              " 'the',\n",
              " 'late',\n",
              " 'Irene',\n",
              " 'Adler',\n",
              " ',',\n",
              " 'of',\n",
              " 'dubious',\n",
              " 'and',\n",
              " 'questionable',\n",
              " 'memory',\n",
              " '.']"
            ]
          },
          "metadata": {
            "tags": []
          },
          "execution_count": 40
        }
      ]
    },
    {
      "cell_type": "code",
      "metadata": {
        "colab": {
          "base_uri": "https://localhost:8080/"
        },
        "id": "HlAhqY1i8IjA",
        "outputId": "c51b0eb9-8dc3-49f0-ece5-0d7d559d2645"
      },
      "source": [
        "#Downlading averaged_perceptron_tagger for POS Tagging\n",
        "nltk.download('averaged_perceptron_tagger')"
      ],
      "execution_count": 42,
      "outputs": [
        {
          "output_type": "stream",
          "text": [
            "[nltk_data] Downloading package averaged_perceptron_tagger to\n",
            "[nltk_data]     /root/nltk_data...\n",
            "[nltk_data]   Unzipping taggers/averaged_perceptron_tagger.zip.\n"
          ],
          "name": "stdout"
        },
        {
          "output_type": "execute_result",
          "data": {
            "text/plain": [
              "True"
            ]
          },
          "metadata": {
            "tags": []
          },
          "execution_count": 42
        }
      ]
    },
    {
      "cell_type": "code",
      "metadata": {
        "colab": {
          "base_uri": "https://localhost:8080/"
        },
        "id": "2AbpX6s48Aft",
        "outputId": "d0f7fd45-42f1-407c-b173-7254646acadc"
      },
      "source": [
        "nltk.pos_tag(tokens)"
      ],
      "execution_count": 43,
      "outputs": [
        {
          "output_type": "execute_result",
          "data": {
            "text/plain": [
              "[('To', 'TO'),\n",
              " ('Sherlock', 'NNP'),\n",
              " ('Holmes', 'NNP'),\n",
              " ('she', 'PRP'),\n",
              " ('is', 'VBZ'),\n",
              " ('always', 'RB'),\n",
              " ('the', 'DT'),\n",
              " ('woman', 'NN'),\n",
              " ('.', '.'),\n",
              " ('I', 'PRP'),\n",
              " ('have', 'VBP'),\n",
              " ('seldom', 'VBN'),\n",
              " ('heard', 'RB'),\n",
              " ('him', 'PRP'),\n",
              " ('mention', 'VB'),\n",
              " ('her', 'PRP'),\n",
              " ('under', 'IN'),\n",
              " ('any', 'DT'),\n",
              " ('other', 'JJ'),\n",
              " ('name', 'NN'),\n",
              " ('.', '.'),\n",
              " ('In', 'IN'),\n",
              " ('his', 'PRP$'),\n",
              " ('eyes', 'NNS'),\n",
              " ('she', 'PRP'),\n",
              " ('eclipses', 'VBZ'),\n",
              " ('and', 'CC'),\n",
              " ('predominates', 'VBZ'),\n",
              " ('the', 'DT'),\n",
              " ('whole', 'NN'),\n",
              " ('of', 'IN'),\n",
              " ('her', 'PRP$'),\n",
              " ('sex', 'NN'),\n",
              " ('.', '.'),\n",
              " ('It', 'PRP'),\n",
              " ('was', 'VBD'),\n",
              " ('not', 'RB'),\n",
              " ('that', 'IN'),\n",
              " ('he', 'PRP'),\n",
              " ('felt', 'VBD'),\n",
              " ('any', 'DT'),\n",
              " ('emotion', 'NN'),\n",
              " ('akin', 'NN'),\n",
              " ('to', 'TO'),\n",
              " ('love', 'VB'),\n",
              " ('for', 'IN'),\n",
              " ('Irene', 'NNP'),\n",
              " ('Adler', 'NNP'),\n",
              " ('.', '.'),\n",
              " ('All', 'DT'),\n",
              " ('emotions', 'NNS'),\n",
              " (',', ','),\n",
              " ('and', 'CC'),\n",
              " ('that', 'IN'),\n",
              " ('one', 'CD'),\n",
              " ('particularly', 'RB'),\n",
              " (',', ','),\n",
              " ('were', 'VBD'),\n",
              " ('abhorrent', 'JJ'),\n",
              " ('to', 'TO'),\n",
              " ('his', 'PRP$'),\n",
              " ('cold', 'NN'),\n",
              " (',', ','),\n",
              " ('precise', 'NN'),\n",
              " ('but', 'CC'),\n",
              " ('admirably', 'RB'),\n",
              " ('balanced', 'VBD'),\n",
              " ('mind', 'NN'),\n",
              " ('.', '.'),\n",
              " ('He', 'PRP'),\n",
              " ('was', 'VBD'),\n",
              " (',', ','),\n",
              " ('I', 'PRP'),\n",
              " ('take', 'VBP'),\n",
              " ('it', 'PRP'),\n",
              " (',', ','),\n",
              " ('the', 'DT'),\n",
              " ('most', 'RBS'),\n",
              " ('perfect', 'JJ'),\n",
              " ('reasoning', 'NN'),\n",
              " ('and', 'CC'),\n",
              " ('observing', 'VBG'),\n",
              " ('machine', 'NN'),\n",
              " ('that', 'IN'),\n",
              " ('the', 'DT'),\n",
              " ('world', 'NN'),\n",
              " ('has', 'VBZ'),\n",
              " ('seen', 'VBN'),\n",
              " (',', ','),\n",
              " ('but', 'CC'),\n",
              " ('as', 'IN'),\n",
              " ('a', 'DT'),\n",
              " ('lover', 'NN'),\n",
              " ('he', 'PRP'),\n",
              " ('would', 'MD'),\n",
              " ('have', 'VB'),\n",
              " ('placed', 'VBN'),\n",
              " ('himself', 'PRP'),\n",
              " ('in', 'IN'),\n",
              " ('a', 'DT'),\n",
              " ('false', 'JJ'),\n",
              " ('position', 'NN'),\n",
              " ('.', '.'),\n",
              " ('He', 'PRP'),\n",
              " ('never', 'RB'),\n",
              " ('spoke', 'VBD'),\n",
              " ('of', 'IN'),\n",
              " ('the', 'DT'),\n",
              " ('softer', 'JJR'),\n",
              " ('passions', 'NNS'),\n",
              " (',', ','),\n",
              " ('save', 'VBP'),\n",
              " ('with', 'IN'),\n",
              " ('a', 'DT'),\n",
              " ('gibe', 'NN'),\n",
              " ('and', 'CC'),\n",
              " ('a', 'DT'),\n",
              " ('sneer', 'NN'),\n",
              " ('.', '.'),\n",
              " ('They', 'PRP'),\n",
              " ('were', 'VBD'),\n",
              " ('admirable', 'JJ'),\n",
              " ('things', 'NNS'),\n",
              " ('for', 'IN'),\n",
              " ('the', 'DT'),\n",
              " ('observer', 'NN'),\n",
              " ('--', ':'),\n",
              " ('excellent', 'JJ'),\n",
              " ('for', 'IN'),\n",
              " ('drawing', 'VBG'),\n",
              " ('the', 'DT'),\n",
              " ('veil', 'NN'),\n",
              " ('from', 'IN'),\n",
              " ('men', 'NNS'),\n",
              " (\"'s\", 'POS'),\n",
              " ('motives', 'NNS'),\n",
              " ('and', 'CC'),\n",
              " ('actions', 'NNS'),\n",
              " ('.', '.'),\n",
              " ('But', 'CC'),\n",
              " ('for', 'IN'),\n",
              " ('the', 'DT'),\n",
              " ('trained', 'JJ'),\n",
              " ('reasoner', 'NN'),\n",
              " ('to', 'TO'),\n",
              " ('admit', 'VB'),\n",
              " ('such', 'JJ'),\n",
              " ('intrusions', 'NNS'),\n",
              " ('into', 'IN'),\n",
              " ('his', 'PRP$'),\n",
              " ('own', 'JJ'),\n",
              " ('delicate', 'NN'),\n",
              " ('and', 'CC'),\n",
              " ('finely', 'RB'),\n",
              " ('adjusted', 'VBD'),\n",
              " ('temperament', 'NN'),\n",
              " ('was', 'VBD'),\n",
              " ('to', 'TO'),\n",
              " ('introduce', 'VB'),\n",
              " ('a', 'DT'),\n",
              " ('distracting', 'NN'),\n",
              " ('factor', 'NN'),\n",
              " ('which', 'WDT'),\n",
              " ('might', 'MD'),\n",
              " ('throw', 'VB'),\n",
              " ('a', 'DT'),\n",
              " ('doubt', 'NN'),\n",
              " ('upon', 'IN'),\n",
              " ('all', 'PDT'),\n",
              " ('his', 'PRP$'),\n",
              " ('mental', 'JJ'),\n",
              " ('results', 'NNS'),\n",
              " ('.', '.'),\n",
              " ('Grit', 'NNP'),\n",
              " ('in', 'IN'),\n",
              " ('a', 'DT'),\n",
              " ('sensitive', 'JJ'),\n",
              " ('instrument', 'NN'),\n",
              " (',', ','),\n",
              " ('or', 'CC'),\n",
              " ('a', 'DT'),\n",
              " ('crack', 'NN'),\n",
              " ('in', 'IN'),\n",
              " ('one', 'CD'),\n",
              " ('of', 'IN'),\n",
              " ('his', 'PRP$'),\n",
              " ('own', 'JJ'),\n",
              " ('high-power', 'NN'),\n",
              " ('lenses', 'NNS'),\n",
              " (',', ','),\n",
              " ('would', 'MD'),\n",
              " ('not', 'RB'),\n",
              " ('be', 'VB'),\n",
              " ('more', 'RBR'),\n",
              " ('disturbing', 'JJ'),\n",
              " ('than', 'IN'),\n",
              " ('a', 'DT'),\n",
              " ('strong', 'JJ'),\n",
              " ('emotion', 'NN'),\n",
              " ('in', 'IN'),\n",
              " ('a', 'DT'),\n",
              " ('nature', 'NN'),\n",
              " ('such', 'JJ'),\n",
              " ('as', 'IN'),\n",
              " ('his', 'PRP$'),\n",
              " ('.', '.'),\n",
              " ('And', 'CC'),\n",
              " ('yet', 'RB'),\n",
              " ('there', 'EX'),\n",
              " ('was', 'VBD'),\n",
              " ('but', 'CC'),\n",
              " ('one', 'CD'),\n",
              " ('woman', 'NN'),\n",
              " ('to', 'TO'),\n",
              " ('him', 'PRP'),\n",
              " (',', ','),\n",
              " ('and', 'CC'),\n",
              " ('that', 'IN'),\n",
              " ('woman', 'NN'),\n",
              " ('was', 'VBD'),\n",
              " ('the', 'DT'),\n",
              " ('late', 'JJ'),\n",
              " ('Irene', 'NNP'),\n",
              " ('Adler', 'NNP'),\n",
              " (',', ','),\n",
              " ('of', 'IN'),\n",
              " ('dubious', 'JJ'),\n",
              " ('and', 'CC'),\n",
              " ('questionable', 'JJ'),\n",
              " ('memory', 'NN'),\n",
              " ('.', '.')]"
            ]
          },
          "metadata": {
            "tags": []
          },
          "execution_count": 43
        }
      ]
    },
    {
      "cell_type": "markdown",
      "metadata": {
        "id": "vZ7mNGsvC1JG"
      },
      "source": [
        "#Project"
      ]
    },
    {
      "cell_type": "markdown",
      "metadata": {
        "id": "QXOjINh48Zqm"
      },
      "source": [
        "#Sentiment Analysis\n",
        "\n",
        "Every Customer based company want to provide the best service and experience to the client, and for that they are trying to leverage the past and exsiting data they have as a input from the client in maybe in the form of feedback or general details.\n",
        "\n",
        "Quantifying users content, idea, belief, and opinion is known as sentiment analysis. User's online post, blogs, tweets, feedback of product helps business people to the target audience and innovate in products and services. Sentiment analysis helps in understanding people in a better and more accurate way. It is not only limited to marketing, but it can also be utilized in politics, research, and security.\n",
        "\n",
        "Communication in real word is not just in the form of mere sentences, it carries more then words in the form of emotion, meaning and context.Sentiments are combination words, tone, and writing style. As a data analyst, It is more important to understand our sentiments, what it really means?\n",
        "\n"
      ]
    },
    {
      "cell_type": "markdown",
      "metadata": {
        "id": "CyFCt7JB9iWs"
      },
      "source": [
        "####There are mainly two approaches for performing sentiment analysis.\n",
        "\n",
        "1. Lexicon-based: count number of positive and negative words in given text and the larger count will be the sentiment of text.\n",
        "\n",
        "2. Machine learning based approach: Develop a classification model, which is trained using the pre-labeled dataset of positive, negative, and neutral.\n",
        "\n",
        "Lets explore the machine learning approach for the sake of understanding."
      ]
    },
    {
      "cell_type": "markdown",
      "metadata": {
        "id": "LzuYXD3A96Lx"
      },
      "source": [
        "## Text Classification\n",
        "Text classification is one of the important tasks of text mining. It is a supervised approach. Identifying category or class of given text such as a blog, book, web page, news articles, and tweets. It has various application in today's computer world such as spam detection, task categorization in CRM services, categorizing products on E-retailer websites, classifying the content of websites for a search engine, sentiments of customer feedback, etc. In the next section, you will learn how you can do text classification in python."
      ]
    },
    {
      "cell_type": "markdown",
      "metadata": {
        "id": "HyzVLApX9-d1"
      },
      "source": [
        "<h2>* Performing Sentiment Analysis using Text Classification</h2>\n"
      ]
    },
    {
      "cell_type": "markdown",
      "metadata": {
        "id": "Wnx8HL66-eob"
      },
      "source": [
        "Data Source  \n",
        "\n",
        "UCI machine learning repository \n",
        "Dimitrios Kotzias dkotzias '@' ics.uci.edu\n",
        "\n",
        "\n",
        "<a href= https://archive.ics.uci.edu/ml/datasets/Sentiment+Labelled+Sentences>Sentiment Labelled Sentences Data Set </a>\n",
        "\n",
        "\n",
        "\n",
        "Data Set Information:\n",
        "\n",
        "This dataset was created for the Paper 'From Group to Individual Labels using Deep Features', Kotzias et. al,. KDD 2015\n",
        "Please cite the paper if you want to use it :)\n",
        "\n",
        "It contains sentences labelled with positive or negative sentiment.\n",
        "\n",
        "=======\n",
        "Format:\n",
        "=======\n",
        "sentence score\n",
        "\n",
        "=======\n",
        "Details:\n",
        "=======\n",
        "Score is either 1 (for positive) or 0 (for negative)\n",
        "The sentences come from three different websites/fields:\n",
        "\n",
        "imdb.com <br> amazon.com <br> yelp.com\n",
        "\n",
        "For each website, there exist 500 positive and 500 negative sentences. Those were selected randomly for larger datasets of reviews.\n",
        "We attempted to select sentences that have a clearly positive or negative connotaton, the goal was for no neutral sentences to be selected.\n",
        "\n",
        "\n",
        "\n",
        "####Attribute Information:\n",
        "\n",
        "The attributes are text sentences, extracted from reviews of products, movies, and restaurants"
      ]
    },
    {
      "cell_type": "code",
      "metadata": {
        "id": "p4mPiBUz8Fmd"
      },
      "source": [
        "# Import pandas\n",
        "import pandas as pd"
      ],
      "execution_count": 44,
      "outputs": []
    },
    {
      "cell_type": "code",
      "metadata": {
        "id": "gx3UIqLFALkN"
      },
      "source": [
        "#Loading Data \n",
        "\n",
        "data = pd.read_csv(\"/content/sample_data/amazon_cells_labelled.txt\",sep=\"\\t\", names=[\"Text\", \"Score\"])"
      ],
      "execution_count": 56,
      "outputs": []
    },
    {
      "cell_type": "code",
      "metadata": {
        "colab": {
          "base_uri": "https://localhost:8080/",
          "height": 204
        },
        "id": "HwnpehUIAbrc",
        "outputId": "312afc21-99bc-4290-b263-27f02a466f7d"
      },
      "source": [
        "data.head()"
      ],
      "execution_count": 57,
      "outputs": [
        {
          "output_type": "execute_result",
          "data": {
            "text/html": [
              "<div>\n",
              "<style scoped>\n",
              "    .dataframe tbody tr th:only-of-type {\n",
              "        vertical-align: middle;\n",
              "    }\n",
              "\n",
              "    .dataframe tbody tr th {\n",
              "        vertical-align: top;\n",
              "    }\n",
              "\n",
              "    .dataframe thead th {\n",
              "        text-align: right;\n",
              "    }\n",
              "</style>\n",
              "<table border=\"1\" class=\"dataframe\">\n",
              "  <thead>\n",
              "    <tr style=\"text-align: right;\">\n",
              "      <th></th>\n",
              "      <th>Text</th>\n",
              "      <th>Score</th>\n",
              "    </tr>\n",
              "  </thead>\n",
              "  <tbody>\n",
              "    <tr>\n",
              "      <th>0</th>\n",
              "      <td>So there is no way for me to plug it in here i...</td>\n",
              "      <td>0</td>\n",
              "    </tr>\n",
              "    <tr>\n",
              "      <th>1</th>\n",
              "      <td>Good case, Excellent value.</td>\n",
              "      <td>1</td>\n",
              "    </tr>\n",
              "    <tr>\n",
              "      <th>2</th>\n",
              "      <td>Great for the jawbone.</td>\n",
              "      <td>1</td>\n",
              "    </tr>\n",
              "    <tr>\n",
              "      <th>3</th>\n",
              "      <td>Tied to charger for conversations lasting more...</td>\n",
              "      <td>0</td>\n",
              "    </tr>\n",
              "    <tr>\n",
              "      <th>4</th>\n",
              "      <td>The mic is great.</td>\n",
              "      <td>1</td>\n",
              "    </tr>\n",
              "  </tbody>\n",
              "</table>\n",
              "</div>"
            ],
            "text/plain": [
              "                                                Text  Score\n",
              "0  So there is no way for me to plug it in here i...      0\n",
              "1                        Good case, Excellent value.      1\n",
              "2                             Great for the jawbone.      1\n",
              "3  Tied to charger for conversations lasting more...      0\n",
              "4                                  The mic is great.      1"
            ]
          },
          "metadata": {
            "tags": []
          },
          "execution_count": 57
        }
      ]
    },
    {
      "cell_type": "code",
      "metadata": {
        "colab": {
          "base_uri": "https://localhost:8080/"
        },
        "id": "qrOav8vZArOB",
        "outputId": "48331bbc-9f59-4855-a612-add5ef1b5179"
      },
      "source": [
        "data.info()"
      ],
      "execution_count": 58,
      "outputs": [
        {
          "output_type": "stream",
          "text": [
            "<class 'pandas.core.frame.DataFrame'>\n",
            "RangeIndex: 1000 entries, 0 to 999\n",
            "Data columns (total 2 columns):\n",
            " #   Column  Non-Null Count  Dtype \n",
            "---  ------  --------------  ----- \n",
            " 0   Text    1000 non-null   object\n",
            " 1   Score   1000 non-null   int64 \n",
            "dtypes: int64(1), object(1)\n",
            "memory usage: 15.8+ KB\n"
          ],
          "name": "stdout"
        }
      ]
    },
    {
      "cell_type": "code",
      "metadata": {
        "colab": {
          "base_uri": "https://localhost:8080/"
        },
        "id": "hhLofg4LBrnd",
        "outputId": "0c419284-07a2-4d05-8b86-c1f88d15cb2a"
      },
      "source": [
        "data.Score.value_counts()"
      ],
      "execution_count": 62,
      "outputs": [
        {
          "output_type": "execute_result",
          "data": {
            "text/plain": [
              "1    500\n",
              "0    500\n",
              "Name: Score, dtype: int64"
            ]
          },
          "metadata": {
            "tags": []
          },
          "execution_count": 62
        }
      ]
    },
    {
      "cell_type": "markdown",
      "metadata": {
        "id": "qlgelk6pCDEJ"
      },
      "source": [
        "So as we can see we have balanced data set which is not the case in real life."
      ]
    },
    {
      "cell_type": "code",
      "metadata": {
        "colab": {
          "base_uri": "https://localhost:8080/",
          "height": 279
        },
        "id": "mD5Y6Wh8B0qK",
        "outputId": "b9e1e205-0bb0-41af-f819-9757a1638455"
      },
      "source": [
        "Score_count = data.groupby('Score').count()\n",
        "plt.bar(Score_count.index.values, Score_count['Text'])\n",
        "plt.xlabel('Review Sentiments')\n",
        "plt.ylabel('Number of Review')\n",
        "plt.show()"
      ],
      "execution_count": 63,
      "outputs": [
        {
          "output_type": "display_data",
          "data": {
            "image/png": "[encoded data removed]",
            "text/plain": [
              "<Figure size 432x288 with 1 Axes>"
            ]
          },
          "metadata": {
            "tags": [],
            "needs_background": "light"
          }
        }
      ]
    },
    {
      "cell_type": "markdown",
      "metadata": {
        "id": "fbNlOUWICzFm"
      },
      "source": [
        "##Feature Generation using Bag of Words\n",
        "\n",
        "\n",
        "In the Text Classification Problem, we have a set of texts and their respective labels. But we directly can't use text for our model. You need to convert these text into some numbers or vectors of numbers.\n",
        "\n",
        "Bag-of-words model(BoW ) is the simplest way of extracting features from the text. BoW converts text into the matrix of occurrence of words within a document. This model concerns about whether given words occurred or not in the document."
      ]
    },
    {
      "cell_type": "code",
      "metadata": {
        "id": "BwqeYwMbCnMz"
      },
      "source": [
        "from sklearn.feature_extraction.text import CountVectorizer\n",
        "from nltk.tokenize import RegexpTokenizer\n",
        "\n",
        "#tokenizer to remove unwanted elements from out data like symbols and numbers\n",
        "token = RegexpTokenizer(r'[a-zA-Z0-9]+')\n",
        "cv = CountVectorizer(lowercase=True,stop_words='english',ngram_range = (1,1),tokenizer = token.tokenize)\n",
        "text_counts= cv.fit_transform(data['Text'])"
      ],
      "execution_count": 64,
      "outputs": []
    },
    {
      "cell_type": "markdown",
      "metadata": {
        "id": "4m_94sTPDY0D"
      },
      "source": [
        "###Split train and test set\n",
        "To understand model performance, dividing the dataset into a training set and a test set is a good strategy.\n",
        "\n",
        "Let's split dataset by using function train_test_split(). You need to pass basically 3 parameters features, target, and test_set size. Additionally, you can use random_state to select records randomly."
      ]
    },
    {
      "cell_type": "code",
      "metadata": {
        "id": "n1f2wBC_DWDW"
      },
      "source": [
        "from sklearn.model_selection import train_test_split\n",
        "X_train, X_test, y_train, y_test = train_test_split(\n",
        "    text_counts, data['Score'], test_size=0.3, random_state=1)"
      ],
      "execution_count": 65,
      "outputs": []
    },
    {
      "cell_type": "markdown",
      "metadata": {
        "id": "TgfsCYWKDo5M"
      },
      "source": [
        "###Model Building and Evaluation\n",
        "Let's build the Text Classification Model using TF-IDF.\n",
        "\n",
        "First, import the MultinomialNB module and create a Multinomial Naive Bayes classifier object using MultinomialNB() function.\n",
        "\n",
        "Then, fit your model on a train set using fit() and perform prediction on the test set using predict()."
      ]
    },
    {
      "cell_type": "code",
      "metadata": {
        "colab": {
          "base_uri": "https://localhost:8080/"
        },
        "id": "NOQdFv8eDmnZ",
        "outputId": "884a71fb-69b3-41fe-cb23-61920d16b59d"
      },
      "source": [
        "from sklearn.naive_bayes import MultinomialNB\n",
        "#Import scikit-learn metrics module for accuracy calculation\n",
        "from sklearn import metrics\n",
        "# Model Generation Using Multinomial Naive Bayes\n",
        "clf = MultinomialNB().fit(X_train, y_train)\n",
        "predicted= clf.predict(X_test)\n",
        "print(\"MultinomialNB Accuracy:\",metrics.accuracy_score(y_test, predicted))"
      ],
      "execution_count": 66,
      "outputs": [
        {
          "output_type": "stream",
          "text": [
            "MultinomialNB Accuracy: 0.7633333333333333\n"
          ],
          "name": "stdout"
        }
      ]
    },
    {
      "cell_type": "markdown",
      "metadata": {
        "id": "5U0cMnsZDx_l"
      },
      "source": [
        "Well, you got a classification rate of 76.33% using CountVector(or BoW), which is not considered as good accuracy. We need to improve this."
      ]
    },
    {
      "cell_type": "markdown",
      "metadata": {
        "id": "TbjftVRxD48w"
      },
      "source": [
        "###Feature Generation using TF-IDF\n",
        "\n",
        "In Term Frequency(TF), you just count the number of words occurred in each document. The main issue with this Term Frequency is that it will give more weight to longer documents. Term frequency is basically the output of the BoW model.\n",
        "\n",
        "IDF(Inverse Document Frequency) measures the amount of information a given word provides across the document. IDF is the logarithmically scaled inverse ratio of the number of documents that contain the word and the total number of documents.\n",
        "\n",
        "\n",
        "TF-IDF(Term Frequency-Inverse Document Frequency) normalizes the document term matrix. It is the product of TF and IDF. Word with high tf-idf in a document, it is most of the times occurred in given documents and must be absent in the other documents."
      ]
    },
    {
      "cell_type": "code",
      "metadata": {
        "id": "06G9JL9CDunm"
      },
      "source": [
        "from sklearn.feature_extraction.text import TfidfVectorizer\n",
        "tf=TfidfVectorizer()\n",
        "text_tf= tf.fit_transform(data['Text'])"
      ],
      "execution_count": 67,
      "outputs": []
    },
    {
      "cell_type": "markdown",
      "metadata": {
        "id": "SitfkJ10EGOx"
      },
      "source": [
        "###Split train and test set (TF-IDF)\n",
        "Let's split dataset by using function train_test_split(). You need to pass basically 3 parameters features, target, and test_set size. Additionally, you can use random_state to select records randomly.\n",
        "\n"
      ]
    },
    {
      "cell_type": "code",
      "metadata": {
        "id": "Orukt2B9EEdV"
      },
      "source": [
        "from sklearn.model_selection import train_test_split\n",
        "X_train, X_test, y_train, y_test = train_test_split(\n",
        "    text_tf, data['Score'], test_size=0.3, random_state=123)"
      ],
      "execution_count": 68,
      "outputs": []
    },
    {
      "cell_type": "markdown",
      "metadata": {
        "id": "kjVpdiqkEKsX"
      },
      "source": [
        "###Model Building and Evaluation (TF-IDF)\n",
        "Let's build the Text Classification Model using TF-IDF.\n",
        "\n",
        "First, import the MultinomialNB module and create the Multinomial Naive Bayes classifier object using MultinomialNB() function.\n",
        "\n",
        "Then, fit your model on a train set using fit() and perform prediction on the test set using predict()."
      ]
    },
    {
      "cell_type": "code",
      "metadata": {
        "colab": {
          "base_uri": "https://localhost:8080/"
        },
        "id": "NYzWV4bNENEt",
        "outputId": "23c2226d-d93b-4970-95a2-d93ebf7899f3"
      },
      "source": [
        "from sklearn.naive_bayes import MultinomialNB\n",
        "from sklearn import metrics\n",
        "# Model Generation Using Multinomial Naive Bayes\n",
        "clf = MultinomialNB().fit(X_train, y_train)\n",
        "predicted= clf.predict(X_test)\n",
        "print(\"MultinomialNB Accuracy:\",metrics.accuracy_score(y_test, predicted))"
      ],
      "execution_count": 69,
      "outputs": [
        {
          "output_type": "stream",
          "text": [
            "MultinomialNB Accuracy: 0.84\n"
          ],
          "name": "stdout"
        }
      ]
    },
    {
      "cell_type": "markdown",
      "metadata": {
        "id": "X1BxUggPFCVj"
      },
      "source": [
        "Well we have imporoved the accuracy of the model from 76.33% to 84% which is pretty good considering we have limited amount of data."
      ]
    },
    {
      "cell_type": "code",
      "metadata": {
        "id": "3z_QLqBWESgp"
      },
      "source": [
        ""
      ],
      "execution_count": null,
      "outputs": []
    }
  ]
}