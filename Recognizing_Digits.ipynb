{
  "nbformat": 4,
  "nbformat_minor": 0,
  "metadata": {
    "colab": {
      "name": "Recognizing_Digits.ipynb",
      "provenance": []
    },
    "kernelspec": {
      "name": "python3",
      "display_name": "Python 3"
    }
  },
  "cells": [
    {
      "cell_type": "code",
      "metadata": {
        "id": "4Xhjuh5XngcB"
      },
      "source": [
        "from sklearn import datasets #to import the dataset from sklearn libraray"
      ],
      "execution_count": 2,
      "outputs": []
    },
    {
      "cell_type": "code",
      "metadata": {
        "id": "8mbW3fyKp7OO"
      },
      "source": [
        "digits = datasets.load_digits() # To load the data"
      ],
      "execution_count": 3,
      "outputs": []
    },
    {
      "cell_type": "code",
      "metadata": {
        "colab": {
          "base_uri": "https://localhost:8080/"
        },
        "id": "bqM_mPMOqIzM",
        "outputId": "6818b491-2980-4691-dadc-a14caff63a64"
      },
      "source": [
        "print(digits.data) # To check the data presentation"
      ],
      "execution_count": 5,
      "outputs": [
        {
          "output_type": "stream",
          "text": [
            "[[ 0.  0.  5. ...  0.  0.  0.]\n",
            " [ 0.  0.  0. ... 10.  0.  0.]\n",
            " [ 0.  0.  0. ... 16.  9.  0.]\n",
            " ...\n",
            " [ 0.  0.  1. ...  6.  0.  0.]\n",
            " [ 0.  0.  2. ... 12.  0.  0.]\n",
            " [ 0.  0. 10. ... 12.  1.  0.]]\n"
          ],
          "name": "stdout"
        }
      ]
    },
    {
      "cell_type": "code",
      "metadata": {
        "colab": {
          "base_uri": "https://localhost:8080/"
        },
        "id": "jhtVKMpuqRhE",
        "outputId": "b9dbd705-f9af-48a4-e090-a3c77061e3da"
      },
      "source": [
        "print(digits.data[0]) # to see the matrix representaion of the value at 0th position"
      ],
      "execution_count": 7,
      "outputs": [
        {
          "output_type": "stream",
          "text": [
            "[ 0.  0.  5. 13.  9.  1.  0.  0.  0.  0. 13. 15. 10. 15.  5.  0.  0.  3.\n",
            " 15.  2.  0. 11.  8.  0.  0.  4. 12.  0.  0.  8.  8.  0.  0.  5.  8.  0.\n",
            "  0.  9.  8.  0.  0.  4. 11.  0.  1. 12.  7.  0.  0.  2. 14.  5. 10. 12.\n",
            "  0.  0.  0.  0.  6. 13. 10.  0.  0.  0.]\n"
          ],
          "name": "stdout"
        }
      ]
    },
    {
      "cell_type": "code",
      "metadata": {
        "colab": {
          "base_uri": "https://localhost:8080/"
        },
        "id": "O07Zwlhuqn2M",
        "outputId": "b812a86a-41cb-4585-cdd6-8c2b3f339ef8"
      },
      "source": [
        "digits.data[0].shape # to see the shapeof the data it is a 8 * 8 matrix"
      ],
      "execution_count": 11,
      "outputs": [
        {
          "output_type": "execute_result",
          "data": {
            "text/plain": [
              "(64,)"
            ]
          },
          "metadata": {
            "tags": []
          },
          "execution_count": 11
        }
      ]
    },
    {
      "cell_type": "code",
      "metadata": {
        "colab": {
          "base_uri": "https://localhost:8080/"
        },
        "id": "7pRDQCtsq0i1",
        "outputId": "e660897b-f5c4-4b66-ac84-8ec470131a9a"
      },
      "source": [
        "digits.target[0] # To represent what does the matrix represent"
      ],
      "execution_count": 15,
      "outputs": [
        {
          "output_type": "execute_result",
          "data": {
            "text/plain": [
              "0"
            ]
          },
          "metadata": {
            "tags": []
          },
          "execution_count": 15
        }
      ]
    },
    {
      "cell_type": "code",
      "metadata": {
        "colab": {
          "base_uri": "https://localhost:8080/"
        },
        "id": "qSDZpn0pq-a4",
        "outputId": "ad6deb55-7ce9-46d0-b360-983285667229"
      },
      "source": [
        "digits.target[-10:] # to see what does the last 10 digits represent"
      ],
      "execution_count": 19,
      "outputs": [
        {
          "output_type": "execute_result",
          "data": {
            "text/plain": [
              "array([5, 4, 8, 8, 4, 9, 0, 8, 9, 8])"
            ]
          },
          "metadata": {
            "tags": []
          },
          "execution_count": 19
        }
      ]
    },
    {
      "cell_type": "code",
      "metadata": {
        "colab": {
          "base_uri": "https://localhost:8080/"
        },
        "id": "wxs-_rQurn6u",
        "outputId": "0a8681be-1892-421f-a7ec-7705582d5f16"
      },
      "source": [
        "digits.target.shape # The target have 1797 shapes"
      ],
      "execution_count": 20,
      "outputs": [
        {
          "output_type": "execute_result",
          "data": {
            "text/plain": [
              "(1797,)"
            ]
          },
          "metadata": {
            "tags": []
          },
          "execution_count": 20
        }
      ]
    },
    {
      "cell_type": "code",
      "metadata": {
        "colab": {
          "base_uri": "https://localhost:8080/"
        },
        "id": "C8wts7Ngr5IH",
        "outputId": "499abb9e-22b2-4e2b-96f9-7a0f54ecfab1"
      },
      "source": [
        "digits.data.shape # the data have 1797 data points in 8 * 8 matrix shape"
      ],
      "execution_count": 21,
      "outputs": [
        {
          "output_type": "execute_result",
          "data": {
            "text/plain": [
              "(1797, 64)"
            ]
          },
          "metadata": {
            "tags": []
          },
          "execution_count": 21
        }
      ]
    },
    {
      "cell_type": "markdown",
      "metadata": {
        "id": "RBRzoWI5sPuk"
      },
      "source": [
        "# Learn to predict the class"
      ]
    },
    {
      "cell_type": "markdown",
      "metadata": {
        "id": "UVHV_4SdsjJo"
      },
      "source": [
        "Train (on most of our data)  ---->  Validate (on the points that we held back )  ----> Test"
      ]
    },
    {
      "cell_type": "markdown",
      "metadata": {
        "id": "WO_UIpUNtFGp"
      },
      "source": [
        "### Starting with a machine learning Classifier"
      ]
    },
    {
      "cell_type": "code",
      "metadata": {
        "id": "YFydvF85r7wB"
      },
      "source": [
        "# We will be using Support vector machine to classify the digit\n",
        "\n",
        "from sklearn import svm"
      ],
      "execution_count": 22,
      "outputs": []
    },
    {
      "cell_type": "code",
      "metadata": {
        "id": "GZOLGq0WtW9l"
      },
      "source": [
        "#Classifier\n",
        "\n",
        "clf = svm.SVC(gamma=0.001, C=100)"
      ],
      "execution_count": 23,
      "outputs": []
    },
    {
      "cell_type": "code",
      "metadata": {
        "colab": {
          "base_uri": "https://localhost:8080/"
        },
        "id": "QTpzoUGFttNb",
        "outputId": "9c42dd61-b1bc-4f59-88b2-c82aaebc4471"
      },
      "source": [
        "# Training themodel\n",
        "clf.fit(digits.data[:-7] , digits.target[:-7])"
      ],
      "execution_count": 24,
      "outputs": [
        {
          "output_type": "execute_result",
          "data": {
            "text/plain": [
              "SVC(C=100, break_ties=False, cache_size=200, class_weight=None, coef0=0.0,\n",
              "    decision_function_shape='ovr', degree=3, gamma=0.001, kernel='rbf',\n",
              "    max_iter=-1, probability=False, random_state=None, shrinking=True,\n",
              "    tol=0.001, verbose=False)"
            ]
          },
          "metadata": {
            "tags": []
          },
          "execution_count": 24
        }
      ]
    },
    {
      "cell_type": "code",
      "metadata": {
        "colab": {
          "base_uri": "https://localhost:8080/"
        },
        "id": "AOqsnopqt_jb",
        "outputId": "706cc3dc-f7cb-477d-a7e3-b5ce3e57cab0"
      },
      "source": [
        "#Testing the model\n",
        "\n",
        "clf.predict(digits.data[-5:])"
      ],
      "execution_count": 52,
      "outputs": [
        {
          "output_type": "execute_result",
          "data": {
            "text/plain": [
              "array([9, 0, 8, 9, 8])"
            ]
          },
          "metadata": {
            "tags": []
          },
          "execution_count": 52
        }
      ]
    },
    {
      "cell_type": "code",
      "metadata": {
        "colab": {
          "base_uri": "https://localhost:8080/"
        },
        "id": "C9uJ9NXIuSa_",
        "outputId": "654ca01d-3b16-4298-ec12-c582665d83af"
      },
      "source": [
        "clf.predict(digits.data[-7:])"
      ],
      "execution_count": 27,
      "outputs": [
        {
          "output_type": "execute_result",
          "data": {
            "text/plain": [
              "array([8, 4, 9, 0, 8, 9, 8])"
            ]
          },
          "metadata": {
            "tags": []
          },
          "execution_count": 27
        }
      ]
    },
    {
      "cell_type": "code",
      "metadata": {
        "colab": {
          "base_uri": "https://localhost:8080/"
        },
        "id": "a-D2HwyPuU7y",
        "outputId": "27a660ee-427c-44a2-80d0-c96ab1010ad2"
      },
      "source": [
        "digits.target[-7:]"
      ],
      "execution_count": 28,
      "outputs": [
        {
          "output_type": "execute_result",
          "data": {
            "text/plain": [
              "array([8, 4, 9, 0, 8, 9, 8])"
            ]
          },
          "metadata": {
            "tags": []
          },
          "execution_count": 28
        }
      ]
    },
    {
      "cell_type": "code",
      "metadata": {
        "colab": {
          "base_uri": "https://localhost:8080/",
          "height": 99
        },
        "id": "kdUHEjENumeF",
        "outputId": "aab5b3c6-3e79-47d2-9e56-fdcb03c79aab"
      },
      "source": [
        "#Plotting the result\n",
        "%matplotlib inline\n",
        "import numpy as np\n",
        "from matplotlib import pyplot as plt\n",
        "\n",
        "plt.figure(figsize=(.6,.6))\n",
        "plt.imshow(digits.images[-4], interpolation= 'nearest', cmap=plt.cm.binary )"
      ],
      "execution_count": 54,
      "outputs": [
        {
          "output_type": "execute_result",
          "data": {
            "text/plain": [
              "<matplotlib.image.AxesImage at 0x7f486f7d2710>"
            ]
          },
          "metadata": {
            "tags": []
          },
          "execution_count": 54
        },
        {
          "output_type": "display_data",
          "data": {
            "image/png": "[encoded data removed]",
            "text/plain": [
              "<Figure size 43.2x43.2 with 1 Axes>"
            ]
          },
          "metadata": {
            "tags": [],
            "needs_background": "light"
          }
        }
      ]
    },
    {
      "cell_type": "code",
      "metadata": {
        "id": "Syu6DcYAvU5l"
      },
      "source": [
        ""
      ],
      "execution_count" : null,
      "outputs": []
    }
  ]
}
